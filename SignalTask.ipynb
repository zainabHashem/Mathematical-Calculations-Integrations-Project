{
 "cells": [
  {
   "cell_type": "code",
   "execution_count": 1,
   "id": "ea814501",
   "metadata": {},
   "outputs": [],
   "source": [
    "#libraries\n",
    "import math\n",
    "import cmath\n",
    "import numpy as np\n",
    "from scipy.integrate import quad\n",
    "import sympy as sp\n",
    "i = 1j"
   ]
  },
  {
   "cell_type": "code",
   "execution_count": 2,
   "id": "405beb06",
   "metadata": {},
   "outputs": [],
   "source": [
    "#choose function\n",
    "#f(x) = cos(x)+6*i*sin(2*x)\n",
    "#f1(x) = sin(x)*e^(x)\n",
    "#f2(x) = e^(x)*(x^2)\n",
    "def f(x):\n",
    "    return math.cos(x)+6*i*math.sin(2*x)\n",
    "def f1(x):\n",
    "    return math.sin(x)*cmath.exp(x)\n",
    "def f2(x):\n",
    "    return cmath.exp(x)*x**2"
   ]
  },
  {
   "cell_type": "code",
   "execution_count": 3,
   "id": "2d2337aa",
   "metadata": {},
   "outputs": [],
   "source": [
    "#complete Integration equation\n",
    "#[f(x) or f1(x) or f2(x)] * e^(iwx)\n",
    "def integ_func(x,chosen_function,w):\n",
    "    if chosen_function == 'f':\n",
    "        return f(x) * cmath.exp(i * w * x)\n",
    "    elif chosen_function == 'f1':\n",
    "        return f1(x) * cmath.exp(i * w * x)\n",
    "    elif chosen_function == 'f2':\n",
    "        return f2(x) * cmath.exp(i * w * x)\n",
    "    else:\n",
    "        raise ValueError(\"invalid function choice\")"
   ]
  },
  {
   "cell_type": "code",
   "execution_count": 4,
   "id": "69c1e321",
   "metadata": {},
   "outputs": [],
   "source": [
    "#Calculating the integral\n",
    "def integral(a,b,n,chosen_function,w):\n",
    "    delta_x = (b-a)/n\n",
    "    integral_sum = 0\n",
    "    for i in range(n+1):\n",
    "        x_i=a+(i)*delta_x\n",
    "        f_x = integ_func(x_i,chosen_function,w)\n",
    "        if i == 0 or i == n:  # For the first and last terms\n",
    "            integral_sum += 0.5*f_x*delta_x\n",
    "        else: \n",
    "            integral_sum += f_x*delta_x\n",
    "    return integral_sum"
   ]
  },
  {
   "cell_type": "code",
   "execution_count": 5,
   "id": "89d9f089",
   "metadata": {},
   "outputs": [
    {
     "name": "stdout",
     "output_type": "stream",
     "text": [
      "f(x) = cos(x)+6*i*sin(2*x) \n",
      "f1(x) = sin(x)*e^(x)\n",
      "f2(x) = e^(x)*(x^2)\n"
     ]
    },
    {
     "name": "stdin",
     "output_type": "stream",
     "text": [
      "choose a function (f, f1, f2):  f\n",
      "enter the lower limit (a):  2\n",
      "enter the upper limit (b):  5\n",
      "enter the the value of (w):  4\n",
      "enter the Number of intervals (n):  1000\n"
     ]
    }
   ],
   "source": [
    "#enter choose function[f,f1,f2] & a , b , w , n\n",
    "print(f\"f(x) = cos(x)+6*i*sin(2*x) \")\n",
    "print(f\"f1(x) = sin(x)*e^(x)\")\n",
    "print(f\"f2(x) = e^(x)*(x^2)\")\n",
    "chosen_function=input(\"choose a function (f, f1, f2): \")\n",
    "if chosen_function not in ['f','f1','f2']:\n",
    "    raise ValueError(\"invalid function choice\")\n",
    "a = float(input(\"enter the lower limit (a): \"))\n",
    "b = float(input(\"enter the upper limit (b): \"))\n",
    "w = float(input(\"enter the the value of (w): \"))\n",
    "n = int(input(\"enter the Number of intervals (n): \"))"
   ]
  },
  {
   "cell_type": "code",
   "execution_count": 6,
   "id": "c6c01f6b",
   "metadata": {},
   "outputs": [
    {
     "name": "stdout",
     "output_type": "stream",
     "text": [
      "(Real part): -0.348779\n",
      "(Imaginary part): 0.170268\n",
      "integral in Cartesian form: -0.348779+0.170268j\n"
     ]
    }
   ],
   "source": [
    "#without use built-in function\n",
    "#print result in Cartesian form = a+bi\n",
    "result = integral(a,b,n,chosen_function,w)\n",
    "real = result.real\n",
    "imagine = result.imag\n",
    "print(f\"(Real part): {real:.6f}\")\n",
    "print(f\"(Imaginary part): {imagine:.6f}\")\n",
    "print(f\"integral in Cartesian form: {result:.6f}\")"
   ]
  },
  {
   "cell_type": "code",
   "execution_count": 7,
   "id": "07b6f41a",
   "metadata": {},
   "outputs": [
    {
     "name": "stdout",
     "output_type": "stream",
     "text": [
      "integral using built in function: -0.348784+0.170275j\n"
     ]
    }
   ],
   "source": [
    "#use built-in function quad\n",
    "result_real, _ = quad(lambda x: integ_func(x,chosen_function,w).real,a,b)\n",
    "result_imag, _ = quad(lambda x: integ_func(x,chosen_function,w).imag,a,b)\n",
    "result = result_real+result_imag*i\n",
    "print(f\"integral using built in function: {result:.6f}\")"
   ]
  },
  {
   "cell_type": "code",
   "execution_count": 8,
   "id": "a8e57ace",
   "metadata": {},
   "outputs": [
    {
     "name": "stdout",
     "output_type": "stream",
     "text": [
      "analytical form:  -0.0666666666666667*exp(4.0*I*x)*sin(x) + 2.0*exp(4.0*I*x)*sin(2*x) - 0.266666666666667*I*exp(4.0*I*x)*cos(x) + 1.0*I*exp(4.0*I*x)*cos(2*x)\n",
      "result =  -0.348783937202218 + 0.170274991260732*I\n"
     ]
    }
   ],
   "source": [
    "#use analytical form with f(x) = cos(x)+6*i*sin(2*x)\n",
    "x = sp.symbols('x')\n",
    "f = (sp.cos(x) + 6* i * sp.sin(2*x)) * sp.exp(1j * 4 * x)\n",
    "analytical_integral = sp.integrate(f,x)\n",
    "print(\"analytical form: \",sp.N(analytical_integral))\n",
    "analytical_result = analytical_integral.subs(x,b) - analytical_integral.subs(x,a)\n",
    "print(\"result = \",sp.N(analytical_result))"
   ]
  },
  {
   "cell_type": "code",
   "execution_count": 9,
   "id": "a74f1fcc",
   "metadata": {},
   "outputs": [
    {
     "name": "stdout",
     "output_type": "stream",
     "text": [
      "phase: 2.687433\n",
      "exponential polar form: 0.388129 * e^(i * 153.978546°)\n",
      "trigonometric Polar form: 0.388129(cos(153.978546)+i*sin(153.978546))\n",
      "polar using built in function: 0.388129*e^(i*153.978546°)\n"
     ]
    }
   ],
   "source": [
    "#print result in exponential = r*e^(0i) & trigonometric = r(cos(0)+i*sin(0)) polar form\n",
    "magnitude = abs(result)\n",
    "phase = math.atan2(result.imag,result.real)\n",
    "print(f\"phase: {phase:.6f}\")\n",
    "angle_degrees = phase*180/np.pi\n",
    "#angle_degrees = math.degrees(phase)\n",
    "print(f\"exponential polar form: {magnitude:.6f} * e^(i * {angle_degrees:.6f}°)\")\n",
    "print(f\"trigonometric Polar form: {magnitude:.6f}(cos({angle_degrees:.6f})+i*sin({angle_degrees:.6f}))\")\n",
    "polar = cmath.polar(result)\n",
    "print(f\"polar using built in function: {polar[0]:.6f}*e^(i*{math.degrees(polar[1]):.6f}°)\")"
   ]
  },
  {
   "cell_type": "markdown",
   "id": "ae8dcff6",
   "metadata": {},
   "source": [
    "# Trigonometric Fourier series"
   ]
  },
  {
   "cell_type": "code",
   "execution_count": 10,
   "id": "69b12405",
   "metadata": {},
   "outputs": [],
   "source": [
    "#function calculate a0,ak,bk\n",
    "#f(x) = cos(x)+6*i*sin(2*x)\n",
    "#f1(x) = x^2\n",
    "def f(x):\n",
    "    return math.cos(x)+6*i*math.sin(2*x)\n",
    "def f1(x):\n",
    "    return x**2\n",
    "\n",
    "def a_0(x,w):\n",
    "    return f(x) * cmath.exp(i * w * x)\n",
    "def a_k(x,w,w_0,k):\n",
    "    return f(x) * cmath.exp(i * w * x)*cmath.cos(k*w_0*x)\n",
    "def b_k(x,w,w_0,k):\n",
    "    return f(x) * cmath.exp(i * w * x)*cmath.sin(k*w_0*x)"
   ]
  },
  {
   "cell_type": "code",
   "execution_count": 11,
   "id": "ce672f0e",
   "metadata": {},
   "outputs": [],
   "source": [
    "#Calculating the integral\n",
    "def integral(a,b,n,w,w_0,k,flag):\n",
    "    delta_x = (b - a) / n\n",
    "    integral_sum = 0\n",
    "    for i in range(n + 1):\n",
    "        x = a + i * delta_x\n",
    "        if flag ==0 :\n",
    "            f = a_0(x,w)\n",
    "        if flag ==1 :\n",
    "            f = a_k(x,w,w_0,k)\n",
    "        if flag ==2 :\n",
    "            f = b_k(x,w,w_0,k)\n",
    "           \n",
    "        if i == 0 or i == n:  # For the first and last terms\n",
    "            integral_sum += 0.5 * f * delta_x\n",
    "        else:\n",
    "            integral_sum += f* delta_x\n",
    "    return integral_sum"
   ]
  },
  {
   "cell_type": "code",
   "execution_count": 12,
   "id": "407d407d",
   "metadata": {},
   "outputs": [],
   "source": [
    "# function calculate real & imagine parts in a0,ak,bk\n",
    "def a_0_real(x, w):\n",
    "    return np.real(f(x) * np.exp(i * w * x))\n",
    "\n",
    "def a_0_imag(x, w):\n",
    "    return np.imag(f(x) * np.exp(i * w * x))\n",
    "\n",
    "def a_k_real(x, w, w_0, k):\n",
    "    return np.real(f(x) * np.exp(i * w * x)*np.cos(k*w_0*x))\n",
    "\n",
    "def a_k_imag(x, w, w_0, k):\n",
    "    return np.imag(f(x) * np.exp(i * w * x)*np.cos(k*w_0*x))\n",
    "\n",
    "def b_k_real(x, w, w_0, k):\n",
    "    return np.real(f(x) * np.exp(i * w * x)*np.sin(k*w_0*x))\n",
    "\n",
    "def b_k_imag(x, w, w_0, k):\n",
    "    return np.imag(f(x) * np.exp(i * w * x)*np.sin(k*w_0*x))"
   ]
  },
  {
   "cell_type": "code",
   "execution_count": 13,
   "id": "aecfdfb6",
   "metadata": {},
   "outputs": [
    {
     "name": "stdin",
     "output_type": "stream",
     "text": [
      "enter the period (T):  1.8\n",
      "enter the the value of (w):  5\n",
      "enter the Number of intervals (n):  1000\n"
     ]
    }
   ],
   "source": [
    "#enter T,w,n \n",
    "T = float(input(\"enter the period (T): \"))\n",
    "w = float(input(\"enter the the value of (w): \"))\n",
    "n = int(input(\"enter the Number of intervals (n): \"))"
   ]
  },
  {
   "cell_type": "code",
   "execution_count": 14,
   "id": "76368a28",
   "metadata": {},
   "outputs": [
    {
     "name": "stdout",
     "output_type": "stream",
     "text": [
      "coefficient a0: (0.23591776212190996-0.06564206545759593j)\n",
      "coefficient ak: (-1.3075692723884458+2.5691531086195982j)\n",
      "coefficient bk: (-2.576174258880649-1.5614736006864627j)\n"
     ]
    }
   ],
   "source": [
    "# without use built-in function\n",
    "T *= math.pi\n",
    "w_0 = (2*math.pi)/T\n",
    "k=3\n",
    "a0 = (1/T) *integral(0,T,n,w,w_0,k,0)\n",
    "ak =  (2/T) *integral(0,T,n,w,w_0,k,1)\n",
    "bk =  (2/T) *integral(0,T,n,w,w_0,k,2)\n",
    "print(f\"coefficient a0: {a0}\")\n",
    "print(f\"coefficient ak: {ak}\")\n",
    "print(f\"coefficient bk: {bk}\")"
   ]
  },
  {
   "cell_type": "code",
   "execution_count": null,
   "id": "b0df635f",
   "metadata": {},
   "outputs": [],
   "source": []
  },
  {
   "cell_type": "code",
   "execution_count": 15,
   "id": "c8d6baaf",
   "metadata": {},
   "outputs": [
    {
     "name": "stdout",
     "output_type": "stream",
     "text": [
      "results using built in function: \n",
      "Coefficient a0: (0.2359314846302873-0.06563040036972355j)\n",
      "Coefficient ak: (-1.3075418268840766+2.5691764392098673j)\n",
      "Coefficient bk: (-2.5761685746271192-1.5614915286464366j)\n"
     ]
    }
   ],
   "source": [
    "#use built in function quad\n",
    "real_a0, _ = quad(a_0_real, 0, T,args=(w))\n",
    "imag_a0, _ = quad(a_0_imag, 0, T,args=(w))\n",
    "real_ak, _ = quad(a_k_real, 0, T,args=(w,k,w_0))\n",
    "imag_ak, _ = quad(a_k_imag, 0, T,args=(w,k,w_0))\n",
    "real_bk, _ = quad(b_k_real, 0, T,args=(w,k,w_0))\n",
    "imag_bk, _ = quad(b_k_imag, 0, T,args=(w,k,w_0))\n",
    "\n",
    "a0 = (1/T) *(real_a0 + i * imag_a0)\n",
    "ak =(2/T) * (real_ak + i * imag_ak)\n",
    "bk =(2/T) * (real_bk + i * imag_bk)\n",
    "\n",
    "print(f\"results using built in function: \")\n",
    "print(f\"Coefficient a0: {(a0)}\")\n",
    "print(F\"Coefficient ak: {ak}\")\n",
    "print(F\"Coefficient bk: {bk}\")"
   ]
  },
  {
   "cell_type": "code",
   "execution_count": null,
   "id": "3cd07366",
   "metadata": {},
   "outputs": [],
   "source": [
    "\n"
   ]
  },
  {
   "cell_type": "code",
   "execution_count": null,
   "id": "470b3fd8",
   "metadata": {},
   "outputs": [],
   "source": []
  },
  {
   "cell_type": "code",
   "execution_count": null,
   "id": "9c7e046e",
   "metadata": {},
   "outputs": [],
   "source": []
  }
 ],
 "metadata": {
  "kernelspec": {
   "display_name": "Python 3 (ipykernel)",
   "language": "python",
   "name": "python3"
  },
  "language_info": {
   "codemirror_mode": {
    "name": "ipython",
    "version": 3
   },
   "file_extension": ".py",
   "mimetype": "text/x-python",
   "name": "python",
   "nbconvert_exporter": "python",
   "pygments_lexer": "ipython3",
   "version": "3.11.5"
  },
  "widgets": {
   "application/vnd.jupyter.widget-state+json": {
    "state": {},
    "version_major": 2,
    "version_minor": 0
   }
  }
 },
 "nbformat": 4,
 "nbformat_minor": 5
}
